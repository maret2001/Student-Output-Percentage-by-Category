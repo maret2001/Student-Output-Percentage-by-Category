{
 "cells": [
  {
   "cell_type": "markdown",
   "metadata": {},
   "source": [
    "# Ignasius Maret Ismoyo"
   ]
  },
  {
   "cell_type": "markdown",
   "metadata": {},
   "source": [
    "## Import Library"
   ]
  },
  {
   "cell_type": "code",
   "execution_count": 268,
   "metadata": {},
   "outputs": [],
   "source": [
    "import pandas as pd\n",
    "import numpy as np\n",
    "import matplotlib.pyplot as plt\n",
    "%matplotlib inline\n",
    "import warnings\n",
    "warnings.filterwarnings(\"ignore\")"
   ]
  },
  {
   "cell_type": "markdown",
   "metadata": {},
   "source": [
    "## Read CSV File"
   ]
  },
  {
   "cell_type": "code",
   "execution_count": 269,
   "metadata": {},
   "outputs": [
    {
     "data": {
      "text/html": [
       "<div>\n",
       "<style scoped>\n",
       "    .dataframe tbody tr th:only-of-type {\n",
       "        vertical-align: middle;\n",
       "    }\n",
       "\n",
       "    .dataframe tbody tr th {\n",
       "        vertical-align: top;\n",
       "    }\n",
       "\n",
       "    .dataframe thead th {\n",
       "        text-align: right;\n",
       "    }\n",
       "</style>\n",
       "<table border=\"1\" class=\"dataframe\">\n",
       "  <thead>\n",
       "    <tr style=\"text-align: right;\">\n",
       "      <th></th>\n",
       "      <th>Marital status</th>\n",
       "      <th>Application mode</th>\n",
       "      <th>Application order</th>\n",
       "      <th>Course</th>\n",
       "      <th>evening attendance</th>\n",
       "      <th>Previous qualification</th>\n",
       "      <th>Nacionality</th>\n",
       "      <th>Mother's qualification</th>\n",
       "      <th>Father's qualification</th>\n",
       "      <th>Mother's occupation</th>\n",
       "      <th>...</th>\n",
       "      <th>Curricular units 2nd sem (credited)</th>\n",
       "      <th>Curricular units 2nd sem (enrolled)</th>\n",
       "      <th>Curricular units 2nd sem (evaluations)</th>\n",
       "      <th>Curricular units 2nd sem (approved)</th>\n",
       "      <th>Curricular units 2nd sem (grade)</th>\n",
       "      <th>Curricular units 2nd sem (without evaluations)</th>\n",
       "      <th>Unemployment rate</th>\n",
       "      <th>Inflation rate</th>\n",
       "      <th>GDP</th>\n",
       "      <th>Output</th>\n",
       "    </tr>\n",
       "  </thead>\n",
       "  <tbody>\n",
       "    <tr>\n",
       "      <th>0</th>\n",
       "      <td>1</td>\n",
       "      <td>8</td>\n",
       "      <td>5</td>\n",
       "      <td>2</td>\n",
       "      <td>1</td>\n",
       "      <td>1</td>\n",
       "      <td>1</td>\n",
       "      <td>13</td>\n",
       "      <td>10</td>\n",
       "      <td>6</td>\n",
       "      <td>...</td>\n",
       "      <td>0</td>\n",
       "      <td>0</td>\n",
       "      <td>0</td>\n",
       "      <td>0</td>\n",
       "      <td>0.000000</td>\n",
       "      <td>0</td>\n",
       "      <td>10.8</td>\n",
       "      <td>1.4</td>\n",
       "      <td>1.74</td>\n",
       "      <td>Dropout</td>\n",
       "    </tr>\n",
       "    <tr>\n",
       "      <th>1</th>\n",
       "      <td>1</td>\n",
       "      <td>6</td>\n",
       "      <td>1</td>\n",
       "      <td>11</td>\n",
       "      <td>1</td>\n",
       "      <td>1</td>\n",
       "      <td>1</td>\n",
       "      <td>1</td>\n",
       "      <td>3</td>\n",
       "      <td>4</td>\n",
       "      <td>...</td>\n",
       "      <td>0</td>\n",
       "      <td>6</td>\n",
       "      <td>6</td>\n",
       "      <td>6</td>\n",
       "      <td>13.666667</td>\n",
       "      <td>0</td>\n",
       "      <td>13.9</td>\n",
       "      <td>-0.3</td>\n",
       "      <td>0.79</td>\n",
       "      <td>Graduate</td>\n",
       "    </tr>\n",
       "    <tr>\n",
       "      <th>2</th>\n",
       "      <td>1</td>\n",
       "      <td>1</td>\n",
       "      <td>5</td>\n",
       "      <td>5</td>\n",
       "      <td>1</td>\n",
       "      <td>1</td>\n",
       "      <td>1</td>\n",
       "      <td>22</td>\n",
       "      <td>27</td>\n",
       "      <td>10</td>\n",
       "      <td>...</td>\n",
       "      <td>0</td>\n",
       "      <td>6</td>\n",
       "      <td>0</td>\n",
       "      <td>0</td>\n",
       "      <td>0.000000</td>\n",
       "      <td>0</td>\n",
       "      <td>10.8</td>\n",
       "      <td>1.4</td>\n",
       "      <td>1.74</td>\n",
       "      <td>Dropout</td>\n",
       "    </tr>\n",
       "    <tr>\n",
       "      <th>3</th>\n",
       "      <td>1</td>\n",
       "      <td>8</td>\n",
       "      <td>2</td>\n",
       "      <td>15</td>\n",
       "      <td>1</td>\n",
       "      <td>1</td>\n",
       "      <td>1</td>\n",
       "      <td>23</td>\n",
       "      <td>27</td>\n",
       "      <td>6</td>\n",
       "      <td>...</td>\n",
       "      <td>0</td>\n",
       "      <td>6</td>\n",
       "      <td>10</td>\n",
       "      <td>5</td>\n",
       "      <td>12.400000</td>\n",
       "      <td>0</td>\n",
       "      <td>9.4</td>\n",
       "      <td>-0.8</td>\n",
       "      <td>-3.12</td>\n",
       "      <td>Graduate</td>\n",
       "    </tr>\n",
       "    <tr>\n",
       "      <th>4</th>\n",
       "      <td>2</td>\n",
       "      <td>12</td>\n",
       "      <td>1</td>\n",
       "      <td>3</td>\n",
       "      <td>0</td>\n",
       "      <td>1</td>\n",
       "      <td>1</td>\n",
       "      <td>22</td>\n",
       "      <td>28</td>\n",
       "      <td>10</td>\n",
       "      <td>...</td>\n",
       "      <td>0</td>\n",
       "      <td>6</td>\n",
       "      <td>6</td>\n",
       "      <td>6</td>\n",
       "      <td>13.000000</td>\n",
       "      <td>0</td>\n",
       "      <td>13.9</td>\n",
       "      <td>-0.3</td>\n",
       "      <td>0.79</td>\n",
       "      <td>Graduate</td>\n",
       "    </tr>\n",
       "    <tr>\n",
       "      <th>...</th>\n",
       "      <td>...</td>\n",
       "      <td>...</td>\n",
       "      <td>...</td>\n",
       "      <td>...</td>\n",
       "      <td>...</td>\n",
       "      <td>...</td>\n",
       "      <td>...</td>\n",
       "      <td>...</td>\n",
       "      <td>...</td>\n",
       "      <td>...</td>\n",
       "      <td>...</td>\n",
       "      <td>...</td>\n",
       "      <td>...</td>\n",
       "      <td>...</td>\n",
       "      <td>...</td>\n",
       "      <td>...</td>\n",
       "      <td>...</td>\n",
       "      <td>...</td>\n",
       "      <td>...</td>\n",
       "      <td>...</td>\n",
       "      <td>...</td>\n",
       "    </tr>\n",
       "    <tr>\n",
       "      <th>4419</th>\n",
       "      <td>1</td>\n",
       "      <td>1</td>\n",
       "      <td>6</td>\n",
       "      <td>15</td>\n",
       "      <td>1</td>\n",
       "      <td>1</td>\n",
       "      <td>1</td>\n",
       "      <td>1</td>\n",
       "      <td>1</td>\n",
       "      <td>6</td>\n",
       "      <td>...</td>\n",
       "      <td>0</td>\n",
       "      <td>6</td>\n",
       "      <td>8</td>\n",
       "      <td>5</td>\n",
       "      <td>12.666667</td>\n",
       "      <td>0</td>\n",
       "      <td>15.5</td>\n",
       "      <td>2.8</td>\n",
       "      <td>-4.06</td>\n",
       "      <td>Graduate</td>\n",
       "    </tr>\n",
       "    <tr>\n",
       "      <th>4420</th>\n",
       "      <td>1</td>\n",
       "      <td>1</td>\n",
       "      <td>2</td>\n",
       "      <td>15</td>\n",
       "      <td>1</td>\n",
       "      <td>1</td>\n",
       "      <td>19</td>\n",
       "      <td>1</td>\n",
       "      <td>1</td>\n",
       "      <td>10</td>\n",
       "      <td>...</td>\n",
       "      <td>0</td>\n",
       "      <td>6</td>\n",
       "      <td>6</td>\n",
       "      <td>2</td>\n",
       "      <td>11.000000</td>\n",
       "      <td>0</td>\n",
       "      <td>11.1</td>\n",
       "      <td>0.6</td>\n",
       "      <td>2.02</td>\n",
       "      <td>Dropout</td>\n",
       "    </tr>\n",
       "    <tr>\n",
       "      <th>4421</th>\n",
       "      <td>1</td>\n",
       "      <td>1</td>\n",
       "      <td>1</td>\n",
       "      <td>12</td>\n",
       "      <td>1</td>\n",
       "      <td>1</td>\n",
       "      <td>1</td>\n",
       "      <td>22</td>\n",
       "      <td>27</td>\n",
       "      <td>10</td>\n",
       "      <td>...</td>\n",
       "      <td>0</td>\n",
       "      <td>8</td>\n",
       "      <td>9</td>\n",
       "      <td>1</td>\n",
       "      <td>13.500000</td>\n",
       "      <td>0</td>\n",
       "      <td>13.9</td>\n",
       "      <td>-0.3</td>\n",
       "      <td>0.79</td>\n",
       "      <td>Dropout</td>\n",
       "    </tr>\n",
       "    <tr>\n",
       "      <th>4422</th>\n",
       "      <td>1</td>\n",
       "      <td>1</td>\n",
       "      <td>1</td>\n",
       "      <td>9</td>\n",
       "      <td>1</td>\n",
       "      <td>1</td>\n",
       "      <td>1</td>\n",
       "      <td>22</td>\n",
       "      <td>27</td>\n",
       "      <td>8</td>\n",
       "      <td>...</td>\n",
       "      <td>0</td>\n",
       "      <td>5</td>\n",
       "      <td>6</td>\n",
       "      <td>5</td>\n",
       "      <td>12.000000</td>\n",
       "      <td>0</td>\n",
       "      <td>9.4</td>\n",
       "      <td>-0.8</td>\n",
       "      <td>-3.12</td>\n",
       "      <td>Graduate</td>\n",
       "    </tr>\n",
       "    <tr>\n",
       "      <th>4423</th>\n",
       "      <td>1</td>\n",
       "      <td>5</td>\n",
       "      <td>1</td>\n",
       "      <td>15</td>\n",
       "      <td>1</td>\n",
       "      <td>1</td>\n",
       "      <td>9</td>\n",
       "      <td>23</td>\n",
       "      <td>27</td>\n",
       "      <td>6</td>\n",
       "      <td>...</td>\n",
       "      <td>0</td>\n",
       "      <td>6</td>\n",
       "      <td>6</td>\n",
       "      <td>6</td>\n",
       "      <td>13.000000</td>\n",
       "      <td>0</td>\n",
       "      <td>12.7</td>\n",
       "      <td>3.7</td>\n",
       "      <td>-1.70</td>\n",
       "      <td>Graduate</td>\n",
       "    </tr>\n",
       "  </tbody>\n",
       "</table>\n",
       "<p>4424 rows × 35 columns</p>\n",
       "</div>"
      ],
      "text/plain": [
       "      Marital status  Application mode  Application order  Course  \\\n",
       "0                  1                 8                  5       2   \n",
       "1                  1                 6                  1      11   \n",
       "2                  1                 1                  5       5   \n",
       "3                  1                 8                  2      15   \n",
       "4                  2                12                  1       3   \n",
       "...              ...               ...                ...     ...   \n",
       "4419               1                 1                  6      15   \n",
       "4420               1                 1                  2      15   \n",
       "4421               1                 1                  1      12   \n",
       "4422               1                 1                  1       9   \n",
       "4423               1                 5                  1      15   \n",
       "\n",
       "      evening attendance  Previous qualification  Nacionality  \\\n",
       "0                      1                       1            1   \n",
       "1                      1                       1            1   \n",
       "2                      1                       1            1   \n",
       "3                      1                       1            1   \n",
       "4                      0                       1            1   \n",
       "...                  ...                     ...          ...   \n",
       "4419                   1                       1            1   \n",
       "4420                   1                       1           19   \n",
       "4421                   1                       1            1   \n",
       "4422                   1                       1            1   \n",
       "4423                   1                       1            9   \n",
       "\n",
       "      Mother's qualification  Father's qualification  Mother's occupation  \\\n",
       "0                         13                      10                    6   \n",
       "1                          1                       3                    4   \n",
       "2                         22                      27                   10   \n",
       "3                         23                      27                    6   \n",
       "4                         22                      28                   10   \n",
       "...                      ...                     ...                  ...   \n",
       "4419                       1                       1                    6   \n",
       "4420                       1                       1                   10   \n",
       "4421                      22                      27                   10   \n",
       "4422                      22                      27                    8   \n",
       "4423                      23                      27                    6   \n",
       "\n",
       "      ...  Curricular units 2nd sem (credited)  \\\n",
       "0     ...                                    0   \n",
       "1     ...                                    0   \n",
       "2     ...                                    0   \n",
       "3     ...                                    0   \n",
       "4     ...                                    0   \n",
       "...   ...                                  ...   \n",
       "4419  ...                                    0   \n",
       "4420  ...                                    0   \n",
       "4421  ...                                    0   \n",
       "4422  ...                                    0   \n",
       "4423  ...                                    0   \n",
       "\n",
       "      Curricular units 2nd sem (enrolled)  \\\n",
       "0                                       0   \n",
       "1                                       6   \n",
       "2                                       6   \n",
       "3                                       6   \n",
       "4                                       6   \n",
       "...                                   ...   \n",
       "4419                                    6   \n",
       "4420                                    6   \n",
       "4421                                    8   \n",
       "4422                                    5   \n",
       "4423                                    6   \n",
       "\n",
       "      Curricular units 2nd sem (evaluations)  \\\n",
       "0                                          0   \n",
       "1                                          6   \n",
       "2                                          0   \n",
       "3                                         10   \n",
       "4                                          6   \n",
       "...                                      ...   \n",
       "4419                                       8   \n",
       "4420                                       6   \n",
       "4421                                       9   \n",
       "4422                                       6   \n",
       "4423                                       6   \n",
       "\n",
       "      Curricular units 2nd sem (approved)  Curricular units 2nd sem (grade)  \\\n",
       "0                                       0                          0.000000   \n",
       "1                                       6                         13.666667   \n",
       "2                                       0                          0.000000   \n",
       "3                                       5                         12.400000   \n",
       "4                                       6                         13.000000   \n",
       "...                                   ...                               ...   \n",
       "4419                                    5                         12.666667   \n",
       "4420                                    2                         11.000000   \n",
       "4421                                    1                         13.500000   \n",
       "4422                                    5                         12.000000   \n",
       "4423                                    6                         13.000000   \n",
       "\n",
       "      Curricular units 2nd sem (without evaluations)  Unemployment rate  \\\n",
       "0                                                  0               10.8   \n",
       "1                                                  0               13.9   \n",
       "2                                                  0               10.8   \n",
       "3                                                  0                9.4   \n",
       "4                                                  0               13.9   \n",
       "...                                              ...                ...   \n",
       "4419                                               0               15.5   \n",
       "4420                                               0               11.1   \n",
       "4421                                               0               13.9   \n",
       "4422                                               0                9.4   \n",
       "4423                                               0               12.7   \n",
       "\n",
       "      Inflation rate   GDP    Output  \n",
       "0                1.4  1.74   Dropout  \n",
       "1               -0.3  0.79  Graduate  \n",
       "2                1.4  1.74   Dropout  \n",
       "3               -0.8 -3.12  Graduate  \n",
       "4               -0.3  0.79  Graduate  \n",
       "...              ...   ...       ...  \n",
       "4419             2.8 -4.06  Graduate  \n",
       "4420             0.6  2.02   Dropout  \n",
       "4421            -0.3  0.79   Dropout  \n",
       "4422            -0.8 -3.12  Graduate  \n",
       "4423             3.7 -1.70  Graduate  \n",
       "\n",
       "[4424 rows x 35 columns]"
      ]
     },
     "execution_count": 269,
     "metadata": {},
     "output_type": "execute_result"
    }
   ],
   "source": [
    "df = pd.read_csv(\"G:\\My Drive\\latihan_coding\\dropout_student_data\\student_data.csv\",sep=';')\n",
    "df"
   ]
  },
  {
   "cell_type": "code",
   "execution_count": 270,
   "metadata": {},
   "outputs": [
    {
     "data": {
      "text/html": [
       "<div>\n",
       "<style scoped>\n",
       "    .dataframe tbody tr th:only-of-type {\n",
       "        vertical-align: middle;\n",
       "    }\n",
       "\n",
       "    .dataframe tbody tr th {\n",
       "        vertical-align: top;\n",
       "    }\n",
       "\n",
       "    .dataframe thead th {\n",
       "        text-align: right;\n",
       "    }\n",
       "</style>\n",
       "<table border=\"1\" class=\"dataframe\">\n",
       "  <thead>\n",
       "    <tr style=\"text-align: right;\">\n",
       "      <th></th>\n",
       "      <th>Marital_status</th>\n",
       "      <th>Application mode</th>\n",
       "      <th>Application order</th>\n",
       "      <th>Course</th>\n",
       "      <th>evening attendance</th>\n",
       "      <th>Previous qualification</th>\n",
       "      <th>Nationality</th>\n",
       "      <th>Mother's qualification</th>\n",
       "      <th>Father's qualification</th>\n",
       "      <th>Mother's occupation</th>\n",
       "      <th>...</th>\n",
       "      <th>Curricular units 2nd sem (credited)</th>\n",
       "      <th>Curricular units 2nd sem (enrolled)</th>\n",
       "      <th>Curricular units 2nd sem (evaluations)</th>\n",
       "      <th>Curricular units 2nd sem (approved)</th>\n",
       "      <th>Curricular units 2nd sem (grade)</th>\n",
       "      <th>Curricular units 2nd sem (without evaluations)</th>\n",
       "      <th>Unemployment rate</th>\n",
       "      <th>Inflation rate</th>\n",
       "      <th>GDP</th>\n",
       "      <th>Output</th>\n",
       "    </tr>\n",
       "  </thead>\n",
       "  <tbody>\n",
       "    <tr>\n",
       "      <th>0</th>\n",
       "      <td>1</td>\n",
       "      <td>8</td>\n",
       "      <td>5</td>\n",
       "      <td>2</td>\n",
       "      <td>1</td>\n",
       "      <td>1</td>\n",
       "      <td>1</td>\n",
       "      <td>13</td>\n",
       "      <td>10</td>\n",
       "      <td>6</td>\n",
       "      <td>...</td>\n",
       "      <td>0</td>\n",
       "      <td>0</td>\n",
       "      <td>0</td>\n",
       "      <td>0</td>\n",
       "      <td>0.000000</td>\n",
       "      <td>0</td>\n",
       "      <td>10.8</td>\n",
       "      <td>1.4</td>\n",
       "      <td>1.74</td>\n",
       "      <td>Dropout</td>\n",
       "    </tr>\n",
       "    <tr>\n",
       "      <th>1</th>\n",
       "      <td>1</td>\n",
       "      <td>6</td>\n",
       "      <td>1</td>\n",
       "      <td>11</td>\n",
       "      <td>1</td>\n",
       "      <td>1</td>\n",
       "      <td>1</td>\n",
       "      <td>1</td>\n",
       "      <td>3</td>\n",
       "      <td>4</td>\n",
       "      <td>...</td>\n",
       "      <td>0</td>\n",
       "      <td>6</td>\n",
       "      <td>6</td>\n",
       "      <td>6</td>\n",
       "      <td>13.666667</td>\n",
       "      <td>0</td>\n",
       "      <td>13.9</td>\n",
       "      <td>-0.3</td>\n",
       "      <td>0.79</td>\n",
       "      <td>Graduate</td>\n",
       "    </tr>\n",
       "    <tr>\n",
       "      <th>2</th>\n",
       "      <td>1</td>\n",
       "      <td>1</td>\n",
       "      <td>5</td>\n",
       "      <td>5</td>\n",
       "      <td>1</td>\n",
       "      <td>1</td>\n",
       "      <td>1</td>\n",
       "      <td>22</td>\n",
       "      <td>27</td>\n",
       "      <td>10</td>\n",
       "      <td>...</td>\n",
       "      <td>0</td>\n",
       "      <td>6</td>\n",
       "      <td>0</td>\n",
       "      <td>0</td>\n",
       "      <td>0.000000</td>\n",
       "      <td>0</td>\n",
       "      <td>10.8</td>\n",
       "      <td>1.4</td>\n",
       "      <td>1.74</td>\n",
       "      <td>Dropout</td>\n",
       "    </tr>\n",
       "    <tr>\n",
       "      <th>3</th>\n",
       "      <td>1</td>\n",
       "      <td>8</td>\n",
       "      <td>2</td>\n",
       "      <td>15</td>\n",
       "      <td>1</td>\n",
       "      <td>1</td>\n",
       "      <td>1</td>\n",
       "      <td>23</td>\n",
       "      <td>27</td>\n",
       "      <td>6</td>\n",
       "      <td>...</td>\n",
       "      <td>0</td>\n",
       "      <td>6</td>\n",
       "      <td>10</td>\n",
       "      <td>5</td>\n",
       "      <td>12.400000</td>\n",
       "      <td>0</td>\n",
       "      <td>9.4</td>\n",
       "      <td>-0.8</td>\n",
       "      <td>-3.12</td>\n",
       "      <td>Graduate</td>\n",
       "    </tr>\n",
       "    <tr>\n",
       "      <th>4</th>\n",
       "      <td>2</td>\n",
       "      <td>12</td>\n",
       "      <td>1</td>\n",
       "      <td>3</td>\n",
       "      <td>0</td>\n",
       "      <td>1</td>\n",
       "      <td>1</td>\n",
       "      <td>22</td>\n",
       "      <td>28</td>\n",
       "      <td>10</td>\n",
       "      <td>...</td>\n",
       "      <td>0</td>\n",
       "      <td>6</td>\n",
       "      <td>6</td>\n",
       "      <td>6</td>\n",
       "      <td>13.000000</td>\n",
       "      <td>0</td>\n",
       "      <td>13.9</td>\n",
       "      <td>-0.3</td>\n",
       "      <td>0.79</td>\n",
       "      <td>Graduate</td>\n",
       "    </tr>\n",
       "    <tr>\n",
       "      <th>...</th>\n",
       "      <td>...</td>\n",
       "      <td>...</td>\n",
       "      <td>...</td>\n",
       "      <td>...</td>\n",
       "      <td>...</td>\n",
       "      <td>...</td>\n",
       "      <td>...</td>\n",
       "      <td>...</td>\n",
       "      <td>...</td>\n",
       "      <td>...</td>\n",
       "      <td>...</td>\n",
       "      <td>...</td>\n",
       "      <td>...</td>\n",
       "      <td>...</td>\n",
       "      <td>...</td>\n",
       "      <td>...</td>\n",
       "      <td>...</td>\n",
       "      <td>...</td>\n",
       "      <td>...</td>\n",
       "      <td>...</td>\n",
       "      <td>...</td>\n",
       "    </tr>\n",
       "    <tr>\n",
       "      <th>4419</th>\n",
       "      <td>1</td>\n",
       "      <td>1</td>\n",
       "      <td>6</td>\n",
       "      <td>15</td>\n",
       "      <td>1</td>\n",
       "      <td>1</td>\n",
       "      <td>1</td>\n",
       "      <td>1</td>\n",
       "      <td>1</td>\n",
       "      <td>6</td>\n",
       "      <td>...</td>\n",
       "      <td>0</td>\n",
       "      <td>6</td>\n",
       "      <td>8</td>\n",
       "      <td>5</td>\n",
       "      <td>12.666667</td>\n",
       "      <td>0</td>\n",
       "      <td>15.5</td>\n",
       "      <td>2.8</td>\n",
       "      <td>-4.06</td>\n",
       "      <td>Graduate</td>\n",
       "    </tr>\n",
       "    <tr>\n",
       "      <th>4420</th>\n",
       "      <td>1</td>\n",
       "      <td>1</td>\n",
       "      <td>2</td>\n",
       "      <td>15</td>\n",
       "      <td>1</td>\n",
       "      <td>1</td>\n",
       "      <td>19</td>\n",
       "      <td>1</td>\n",
       "      <td>1</td>\n",
       "      <td>10</td>\n",
       "      <td>...</td>\n",
       "      <td>0</td>\n",
       "      <td>6</td>\n",
       "      <td>6</td>\n",
       "      <td>2</td>\n",
       "      <td>11.000000</td>\n",
       "      <td>0</td>\n",
       "      <td>11.1</td>\n",
       "      <td>0.6</td>\n",
       "      <td>2.02</td>\n",
       "      <td>Dropout</td>\n",
       "    </tr>\n",
       "    <tr>\n",
       "      <th>4421</th>\n",
       "      <td>1</td>\n",
       "      <td>1</td>\n",
       "      <td>1</td>\n",
       "      <td>12</td>\n",
       "      <td>1</td>\n",
       "      <td>1</td>\n",
       "      <td>1</td>\n",
       "      <td>22</td>\n",
       "      <td>27</td>\n",
       "      <td>10</td>\n",
       "      <td>...</td>\n",
       "      <td>0</td>\n",
       "      <td>8</td>\n",
       "      <td>9</td>\n",
       "      <td>1</td>\n",
       "      <td>13.500000</td>\n",
       "      <td>0</td>\n",
       "      <td>13.9</td>\n",
       "      <td>-0.3</td>\n",
       "      <td>0.79</td>\n",
       "      <td>Dropout</td>\n",
       "    </tr>\n",
       "    <tr>\n",
       "      <th>4422</th>\n",
       "      <td>1</td>\n",
       "      <td>1</td>\n",
       "      <td>1</td>\n",
       "      <td>9</td>\n",
       "      <td>1</td>\n",
       "      <td>1</td>\n",
       "      <td>1</td>\n",
       "      <td>22</td>\n",
       "      <td>27</td>\n",
       "      <td>8</td>\n",
       "      <td>...</td>\n",
       "      <td>0</td>\n",
       "      <td>5</td>\n",
       "      <td>6</td>\n",
       "      <td>5</td>\n",
       "      <td>12.000000</td>\n",
       "      <td>0</td>\n",
       "      <td>9.4</td>\n",
       "      <td>-0.8</td>\n",
       "      <td>-3.12</td>\n",
       "      <td>Graduate</td>\n",
       "    </tr>\n",
       "    <tr>\n",
       "      <th>4423</th>\n",
       "      <td>1</td>\n",
       "      <td>5</td>\n",
       "      <td>1</td>\n",
       "      <td>15</td>\n",
       "      <td>1</td>\n",
       "      <td>1</td>\n",
       "      <td>9</td>\n",
       "      <td>23</td>\n",
       "      <td>27</td>\n",
       "      <td>6</td>\n",
       "      <td>...</td>\n",
       "      <td>0</td>\n",
       "      <td>6</td>\n",
       "      <td>6</td>\n",
       "      <td>6</td>\n",
       "      <td>13.000000</td>\n",
       "      <td>0</td>\n",
       "      <td>12.7</td>\n",
       "      <td>3.7</td>\n",
       "      <td>-1.70</td>\n",
       "      <td>Graduate</td>\n",
       "    </tr>\n",
       "  </tbody>\n",
       "</table>\n",
       "<p>4424 rows × 35 columns</p>\n",
       "</div>"
      ],
      "text/plain": [
       "      Marital_status  Application mode  Application order  Course  \\\n",
       "0                  1                 8                  5       2   \n",
       "1                  1                 6                  1      11   \n",
       "2                  1                 1                  5       5   \n",
       "3                  1                 8                  2      15   \n",
       "4                  2                12                  1       3   \n",
       "...              ...               ...                ...     ...   \n",
       "4419               1                 1                  6      15   \n",
       "4420               1                 1                  2      15   \n",
       "4421               1                 1                  1      12   \n",
       "4422               1                 1                  1       9   \n",
       "4423               1                 5                  1      15   \n",
       "\n",
       "      evening attendance  Previous qualification  Nationality  \\\n",
       "0                      1                       1            1   \n",
       "1                      1                       1            1   \n",
       "2                      1                       1            1   \n",
       "3                      1                       1            1   \n",
       "4                      0                       1            1   \n",
       "...                  ...                     ...          ...   \n",
       "4419                   1                       1            1   \n",
       "4420                   1                       1           19   \n",
       "4421                   1                       1            1   \n",
       "4422                   1                       1            1   \n",
       "4423                   1                       1            9   \n",
       "\n",
       "      Mother's qualification  Father's qualification  Mother's occupation  \\\n",
       "0                         13                      10                    6   \n",
       "1                          1                       3                    4   \n",
       "2                         22                      27                   10   \n",
       "3                         23                      27                    6   \n",
       "4                         22                      28                   10   \n",
       "...                      ...                     ...                  ...   \n",
       "4419                       1                       1                    6   \n",
       "4420                       1                       1                   10   \n",
       "4421                      22                      27                   10   \n",
       "4422                      22                      27                    8   \n",
       "4423                      23                      27                    6   \n",
       "\n",
       "      ...  Curricular units 2nd sem (credited)  \\\n",
       "0     ...                                    0   \n",
       "1     ...                                    0   \n",
       "2     ...                                    0   \n",
       "3     ...                                    0   \n",
       "4     ...                                    0   \n",
       "...   ...                                  ...   \n",
       "4419  ...                                    0   \n",
       "4420  ...                                    0   \n",
       "4421  ...                                    0   \n",
       "4422  ...                                    0   \n",
       "4423  ...                                    0   \n",
       "\n",
       "      Curricular units 2nd sem (enrolled)  \\\n",
       "0                                       0   \n",
       "1                                       6   \n",
       "2                                       6   \n",
       "3                                       6   \n",
       "4                                       6   \n",
       "...                                   ...   \n",
       "4419                                    6   \n",
       "4420                                    6   \n",
       "4421                                    8   \n",
       "4422                                    5   \n",
       "4423                                    6   \n",
       "\n",
       "      Curricular units 2nd sem (evaluations)  \\\n",
       "0                                          0   \n",
       "1                                          6   \n",
       "2                                          0   \n",
       "3                                         10   \n",
       "4                                          6   \n",
       "...                                      ...   \n",
       "4419                                       8   \n",
       "4420                                       6   \n",
       "4421                                       9   \n",
       "4422                                       6   \n",
       "4423                                       6   \n",
       "\n",
       "      Curricular units 2nd sem (approved)  Curricular units 2nd sem (grade)  \\\n",
       "0                                       0                          0.000000   \n",
       "1                                       6                         13.666667   \n",
       "2                                       0                          0.000000   \n",
       "3                                       5                         12.400000   \n",
       "4                                       6                         13.000000   \n",
       "...                                   ...                               ...   \n",
       "4419                                    5                         12.666667   \n",
       "4420                                    2                         11.000000   \n",
       "4421                                    1                         13.500000   \n",
       "4422                                    5                         12.000000   \n",
       "4423                                    6                         13.000000   \n",
       "\n",
       "      Curricular units 2nd sem (without evaluations)  Unemployment rate  \\\n",
       "0                                                  0               10.8   \n",
       "1                                                  0               13.9   \n",
       "2                                                  0               10.8   \n",
       "3                                                  0                9.4   \n",
       "4                                                  0               13.9   \n",
       "...                                              ...                ...   \n",
       "4419                                               0               15.5   \n",
       "4420                                               0               11.1   \n",
       "4421                                               0               13.9   \n",
       "4422                                               0                9.4   \n",
       "4423                                               0               12.7   \n",
       "\n",
       "      Inflation rate   GDP    Output  \n",
       "0                1.4  1.74   Dropout  \n",
       "1               -0.3  0.79  Graduate  \n",
       "2                1.4  1.74   Dropout  \n",
       "3               -0.8 -3.12  Graduate  \n",
       "4               -0.3  0.79  Graduate  \n",
       "...              ...   ...       ...  \n",
       "4419             2.8 -4.06  Graduate  \n",
       "4420             0.6  2.02   Dropout  \n",
       "4421            -0.3  0.79   Dropout  \n",
       "4422            -0.8 -3.12  Graduate  \n",
       "4423             3.7 -1.70  Graduate  \n",
       "\n",
       "[4424 rows x 35 columns]"
      ]
     },
     "execution_count": 270,
     "metadata": {},
     "output_type": "execute_result"
    }
   ],
   "source": [
    "# Ubah nama kolom Nacionality\n",
    "df=df.rename(columns={\"Nacionality\":\"Nationality\"})\n",
    "df=df.rename(columns={\"Marital status\":\"Marital_status\"})\n",
    "df=df.rename(columns={\"Scholarship holder\":\"Scholarship_holder\"})\n",
    "df=df.rename(columns={\"Educational special needs\":\"Educational_special_needs\"})\n",
    "df"
   ]
  },
  {
   "cell_type": "code",
   "execution_count": 271,
   "metadata": {},
   "outputs": [
    {
     "name": "stdout",
     "output_type": "stream",
     "text": [
      "<class 'pandas.core.frame.DataFrame'>\n",
      "RangeIndex: 4424 entries, 0 to 4423\n",
      "Data columns (total 35 columns):\n",
      " #   Column                                          Non-Null Count  Dtype  \n",
      "---  ------                                          --------------  -----  \n",
      " 0   Marital_status                                  4424 non-null   int64  \n",
      " 1   Application mode                                4424 non-null   int64  \n",
      " 2   Application order                               4424 non-null   int64  \n",
      " 3   Course                                          4424 non-null   int64  \n",
      " 4   evening attendance                              4424 non-null   int64  \n",
      " 5   Previous qualification                          4424 non-null   int64  \n",
      " 6   Nationality                                     4424 non-null   int64  \n",
      " 7   Mother's qualification                          4424 non-null   int64  \n",
      " 8   Father's qualification                          4424 non-null   int64  \n",
      " 9   Mother's occupation                             4424 non-null   int64  \n",
      " 10  Father's occupation                             4424 non-null   int64  \n",
      " 11  Displaced                                       4424 non-null   int64  \n",
      " 12  Educational_special_needs                       4424 non-null   int64  \n",
      " 13  Debtor                                          4424 non-null   int64  \n",
      " 14  Tuition fees up to date                         4424 non-null   int64  \n",
      " 15  Gender                                          4424 non-null   int64  \n",
      " 16  Scholarship_holder                              4424 non-null   int64  \n",
      " 17  Age at enrollment                               4424 non-null   int64  \n",
      " 18  International                                   4424 non-null   int64  \n",
      " 19  Curricular units 1st sem (credited)             4424 non-null   int64  \n",
      " 20  Curricular units 1st sem (enrolled)             4424 non-null   int64  \n",
      " 21  Curricular units 1st sem (evaluations)          4424 non-null   int64  \n",
      " 22  Curricular units 1st sem (approved)             4424 non-null   int64  \n",
      " 23  Curricular units 1st sem (grade)                4424 non-null   float64\n",
      " 24  Curricular units 1st sem (without evaluations)  4424 non-null   int64  \n",
      " 25  Curricular units 2nd sem (credited)             4424 non-null   int64  \n",
      " 26  Curricular units 2nd sem (enrolled)             4424 non-null   int64  \n",
      " 27  Curricular units 2nd sem (evaluations)          4424 non-null   int64  \n",
      " 28  Curricular units 2nd sem (approved)             4424 non-null   int64  \n",
      " 29  Curricular units 2nd sem (grade)                4424 non-null   float64\n",
      " 30  Curricular units 2nd sem (without evaluations)  4424 non-null   int64  \n",
      " 31  Unemployment rate                               4424 non-null   float64\n",
      " 32  Inflation rate                                  4424 non-null   float64\n",
      " 33  GDP                                             4424 non-null   float64\n",
      " 34  Output                                          4424 non-null   object \n",
      "dtypes: float64(5), int64(29), object(1)\n",
      "memory usage: 1.2+ MB\n"
     ]
    }
   ],
   "source": [
    "df.info()"
   ]
  },
  {
   "cell_type": "code",
   "execution_count": 272,
   "metadata": {},
   "outputs": [
    {
     "data": {
      "text/plain": [
       "Marital_status                                    0\n",
       "Application mode                                  0\n",
       "Application order                                 0\n",
       "Course                                            0\n",
       "evening attendance                                0\n",
       "Previous qualification                            0\n",
       "Nationality                                       0\n",
       "Mother's qualification                            0\n",
       "Father's qualification                            0\n",
       "Mother's occupation                               0\n",
       "Father's occupation                               0\n",
       "Displaced                                         0\n",
       "Educational_special_needs                         0\n",
       "Debtor                                            0\n",
       "Tuition fees up to date                           0\n",
       "Gender                                            0\n",
       "Scholarship_holder                                0\n",
       "Age at enrollment                                 0\n",
       "International                                     0\n",
       "Curricular units 1st sem (credited)               0\n",
       "Curricular units 1st sem (enrolled)               0\n",
       "Curricular units 1st sem (evaluations)            0\n",
       "Curricular units 1st sem (approved)               0\n",
       "Curricular units 1st sem (grade)                  0\n",
       "Curricular units 1st sem (without evaluations)    0\n",
       "Curricular units 2nd sem (credited)               0\n",
       "Curricular units 2nd sem (enrolled)               0\n",
       "Curricular units 2nd sem (evaluations)            0\n",
       "Curricular units 2nd sem (approved)               0\n",
       "Curricular units 2nd sem (grade)                  0\n",
       "Curricular units 2nd sem (without evaluations)    0\n",
       "Unemployment rate                                 0\n",
       "Inflation rate                                    0\n",
       "GDP                                               0\n",
       "Output                                            0\n",
       "dtype: int64"
      ]
     },
     "execution_count": 272,
     "metadata": {},
     "output_type": "execute_result"
    }
   ],
   "source": [
    "# Tidak ada missing value nya\n",
    "df.isnull().sum()"
   ]
  },
  {
   "cell_type": "code",
   "execution_count": 273,
   "metadata": {},
   "outputs": [
    {
     "data": {
      "text/plain": [
       "0"
      ]
     },
     "execution_count": 273,
     "metadata": {},
     "output_type": "execute_result"
    }
   ],
   "source": [
    "# tidak ada data ganda\n",
    "df.duplicated().sum()"
   ]
  },
  {
   "cell_type": "markdown",
   "metadata": {},
   "source": [
    "## Output"
   ]
  },
  {
   "cell_type": "code",
   "execution_count": 292,
   "metadata": {},
   "outputs": [
    {
     "data": {
      "text/plain": [
       "0        Dropout\n",
       "1       Graduate\n",
       "2        Dropout\n",
       "3       Graduate\n",
       "4       Graduate\n",
       "          ...   \n",
       "4419    Graduate\n",
       "4420     Dropout\n",
       "4421     Dropout\n",
       "4422    Graduate\n",
       "4423    Graduate\n",
       "Name: Output, Length: 4424, dtype: object"
      ]
     },
     "execution_count": 292,
     "metadata": {},
     "output_type": "execute_result"
    }
   ],
   "source": [
    "df.Output"
   ]
  },
  {
   "cell_type": "code",
   "execution_count": 275,
   "metadata": {},
   "outputs": [
    {
     "data": {
      "text/plain": [
       "Output\n",
       "Graduate    2209\n",
       "Dropout     1421\n",
       "Enrolled     794\n",
       "Name: count, dtype: int64"
      ]
     },
     "execution_count": 275,
     "metadata": {},
     "output_type": "execute_result"
    }
   ],
   "source": [
    "output = df.Output.value_counts()\n",
    "output"
   ]
  },
  {
   "cell_type": "code",
   "execution_count": 276,
   "metadata": {},
   "outputs": [
    {
     "data": {
      "image/png": "[encoded data removed]",
      "text/plain": [
       "<Figure size 640x480 with 1 Axes>"
      ]
     },
     "metadata": {},
     "output_type": "display_data"
    }
   ],
   "source": [
    "plt.pie(df['Output'].value_counts().values, labels=np.unique(df['Output']), autopct='%1.2f%%', startangle=90)\n",
    "plt.title(\"Distribusi kolom Output\")\n",
    "plt.show()"
   ]
  },
  {
   "cell_type": "markdown",
   "metadata": {},
   "source": [
    "### ------------------------------------------------------------------------------------------------------------\n",
    "### International Student? (1 = Yes, 0 = No)"
   ]
  },
  {
   "cell_type": "code",
   "execution_count": 277,
   "metadata": {},
   "outputs": [
    {
     "data": {
      "text/plain": [
       "International\n",
       "0    4314\n",
       "1     110\n",
       "Name: count, dtype: int64"
      ]
     },
     "execution_count": 277,
     "metadata": {},
     "output_type": "execute_result"
    }
   ],
   "source": [
    "df.International.value_counts()"
   ]
  },
  {
   "cell_type": "code",
   "execution_count": 278,
   "metadata": {},
   "outputs": [
    {
     "data": {
      "text/plain": [
       "Output    International\n",
       "Dropout   0                1389.0\n",
       "          1                  32.0\n",
       "Enrolled  0                 770.0\n",
       "          1                  24.0\n",
       "Graduate  0                2155.0\n",
       "          1                  54.0\n",
       "dtype: float64"
      ]
     },
     "execution_count": 278,
     "metadata": {},
     "output_type": "execute_result"
    }
   ],
   "source": [
    "df.groupby(by=['Output', 'International']).size() / df.groupby('Output').size() * df.Output.value_counts()"
   ]
  },
  {
   "cell_type": "code",
   "execution_count": 279,
   "metadata": {},
   "outputs": [
    {
     "data": {
      "text/plain": [
       "Output    International\n",
       "Dropout   0                97.748065\n",
       "          1                 2.251935\n",
       "Enrolled  0                96.977330\n",
       "          1                 3.022670\n",
       "Graduate  0                97.555455\n",
       "          1                 2.444545\n",
       "dtype: float64"
      ]
     },
     "execution_count": 279,
     "metadata": {},
     "output_type": "execute_result"
    }
   ],
   "source": [
    "# in percent (%)\n",
    "df.groupby(by=['Output', 'International']).size() / df.groupby('Output').size()*100"
   ]
  },
  {
   "cell_type": "markdown",
   "metadata": {},
   "source": [
    "### ------------------------------------------------------------------------------------------------------------\n",
    "### Marital Status? (1 = single, 2 = married, 3 = widower, 4 = divorced, 5 = facto union, 6 = legally separated)\n"
   ]
  },
  {
   "cell_type": "code",
   "execution_count": 280,
   "metadata": {},
   "outputs": [
    {
     "data": {
      "text/plain": [
       "Marital_status\n",
       "1    3919\n",
       "2     379\n",
       "4      91\n",
       "5      25\n",
       "6       6\n",
       "3       4\n",
       "Name: count, dtype: int64"
      ]
     },
     "execution_count": 280,
     "metadata": {},
     "output_type": "execute_result"
    }
   ],
   "source": [
    "df.Marital_status.value_counts()"
   ]
  },
  {
   "cell_type": "code",
   "execution_count": 281,
   "metadata": {},
   "outputs": [
    {
     "data": {
      "text/plain": [
       "Output    Marital_status\n",
       "Dropout   1                 1184.0\n",
       "          2                  179.0\n",
       "          3                    1.0\n",
       "          4                   42.0\n",
       "          5                   11.0\n",
       "          6                    4.0\n",
       "Enrolled  1                  720.0\n",
       "          2                   52.0\n",
       "          3                    2.0\n",
       "          4                   16.0\n",
       "          5                    3.0\n",
       "          6                    1.0\n",
       "Graduate  1                 2015.0\n",
       "          2                  148.0\n",
       "          3                    1.0\n",
       "          4                   33.0\n",
       "          5                   11.0\n",
       "          6                    1.0\n",
       "dtype: float64"
      ]
     },
     "execution_count": 281,
     "metadata": {},
     "output_type": "execute_result"
    }
   ],
   "source": [
    "df.groupby(by=['Output', 'Marital_status']).size() / df.groupby('Output').size() * df.Output.value_counts()"
   ]
  },
  {
   "cell_type": "code",
   "execution_count": 282,
   "metadata": {},
   "outputs": [
    {
     "data": {
      "text/plain": [
       "Output    Marital_status\n",
       "Dropout   1                 83.321605\n",
       "          2                 12.596763\n",
       "          3                  0.070373\n",
       "          4                  2.955665\n",
       "          5                  0.774103\n",
       "          6                  0.281492\n",
       "Enrolled  1                 90.680101\n",
       "          2                  6.549118\n",
       "          3                  0.251889\n",
       "          4                  2.015113\n",
       "          5                  0.377834\n",
       "          6                  0.125945\n",
       "Graduate  1                 91.217746\n",
       "          2                  6.699864\n",
       "          3                  0.045269\n",
       "          4                  1.493889\n",
       "          5                  0.497963\n",
       "          6                  0.045269\n",
       "dtype: float64"
      ]
     },
     "execution_count": 282,
     "metadata": {},
     "output_type": "execute_result"
    }
   ],
   "source": [
    "# in percent (%)\n",
    "df.groupby(by=['Output', 'Marital_status']).size() / df.groupby('Output').size()*100"
   ]
  },
  {
   "cell_type": "markdown",
   "metadata": {},
   "source": [
    "### ------------------------------------------------------------------------------------------------------------\n",
    "### Gender? (1 = male, 0 = female)"
   ]
  },
  {
   "cell_type": "code",
   "execution_count": 283,
   "metadata": {},
   "outputs": [
    {
     "data": {
      "text/plain": [
       "Gender\n",
       "0    2868\n",
       "1    1556\n",
       "Name: count, dtype: int64"
      ]
     },
     "execution_count": 283,
     "metadata": {},
     "output_type": "execute_result"
    }
   ],
   "source": [
    "df.Gender.value_counts()"
   ]
  },
  {
   "cell_type": "code",
   "execution_count": 284,
   "metadata": {},
   "outputs": [
    {
     "data": {
      "text/plain": [
       "Output    Gender\n",
       "Dropout   0          720.0\n",
       "          1          701.0\n",
       "Enrolled  0          487.0\n",
       "          1          307.0\n",
       "Graduate  0         1661.0\n",
       "          1          548.0\n",
       "dtype: float64"
      ]
     },
     "execution_count": 284,
     "metadata": {},
     "output_type": "execute_result"
    }
   ],
   "source": [
    "df.groupby(by=['Output', 'Gender']).size() / df.groupby('Output').size() * df.Output.value_counts()"
   ]
  },
  {
   "cell_type": "code",
   "execution_count": 285,
   "metadata": {},
   "outputs": [
    {
     "data": {
      "text/plain": [
       "Output    Gender\n",
       "Dropout   0         50.668543\n",
       "          1         49.331457\n",
       "Enrolled  0         61.335013\n",
       "          1         38.664987\n",
       "Graduate  0         75.192395\n",
       "          1         24.807605\n",
       "dtype: float64"
      ]
     },
     "execution_count": 285,
     "metadata": {},
     "output_type": "execute_result"
    }
   ],
   "source": [
    "# in percent (%)\n",
    "df.groupby(by=['Output', 'Gender']).size() / df.groupby('Output').size()*100"
   ]
  },
  {
   "cell_type": "markdown",
   "metadata": {},
   "source": [
    "### ------------------------------------------------------------------------------------------------------------\n",
    "### Scholarship holder? (1 = yes, 0 = no)"
   ]
  },
  {
   "cell_type": "code",
   "execution_count": 286,
   "metadata": {},
   "outputs": [
    {
     "data": {
      "text/plain": [
       "Scholarship_holder\n",
       "0    3325\n",
       "1    1099\n",
       "Name: count, dtype: int64"
      ]
     },
     "execution_count": 286,
     "metadata": {},
     "output_type": "execute_result"
    }
   ],
   "source": [
    "df.Scholarship_holder.value_counts()"
   ]
  },
  {
   "cell_type": "code",
   "execution_count": 287,
   "metadata": {},
   "outputs": [
    {
     "data": {
      "text/plain": [
       "Output    Scholarship_holder\n",
       "Dropout   0                     1287.0\n",
       "          1                      134.0\n",
       "Enrolled  0                      664.0\n",
       "          1                      130.0\n",
       "Graduate  0                     1374.0\n",
       "          1                      835.0\n",
       "dtype: float64"
      ]
     },
     "execution_count": 287,
     "metadata": {},
     "output_type": "execute_result"
    }
   ],
   "source": [
    "df.groupby(by=['Output', 'Scholarship_holder']).size() / df.groupby('Output').size() * df.Output.value_counts()"
   ]
  },
  {
   "cell_type": "code",
   "execution_count": 288,
   "metadata": {},
   "outputs": [
    {
     "data": {
      "text/plain": [
       "Output    Scholarship_holder\n",
       "Dropout   0                     90.570021\n",
       "          1                      9.429979\n",
       "Enrolled  0                     83.627204\n",
       "          1                     16.372796\n",
       "Graduate  0                     62.200091\n",
       "          1                     37.799909\n",
       "dtype: float64"
      ]
     },
     "execution_count": 288,
     "metadata": {},
     "output_type": "execute_result"
    }
   ],
   "source": [
    "# in percent (%)\n",
    "df.groupby(by=['Output', 'Scholarship_holder']).size() / df.groupby('Output').size()*100"
   ]
  },
  {
   "cell_type": "markdown",
   "metadata": {},
   "source": [
    "### ------------------------------------------------------------------------------------------------------------\n",
    "### Educational special needs/Disability needs? (1 = Yes, 0 = No)"
   ]
  },
  {
   "cell_type": "code",
   "execution_count": 289,
   "metadata": {},
   "outputs": [
    {
     "data": {
      "text/plain": [
       "Educational_special_needs\n",
       "0    4373\n",
       "1      51\n",
       "Name: count, dtype: int64"
      ]
     },
     "execution_count": 289,
     "metadata": {},
     "output_type": "execute_result"
    }
   ],
   "source": [
    "df.Educational_special_needs.value_counts()"
   ]
  },
  {
   "cell_type": "code",
   "execution_count": 290,
   "metadata": {},
   "outputs": [
    {
     "data": {
      "text/plain": [
       "Output    Educational_special_needs\n",
       "Dropout   0                            1404.0\n",
       "          1                              17.0\n",
       "Enrolled  0                             783.0\n",
       "          1                              11.0\n",
       "Graduate  0                            2186.0\n",
       "          1                              23.0\n",
       "dtype: float64"
      ]
     },
     "execution_count": 290,
     "metadata": {},
     "output_type": "execute_result"
    }
   ],
   "source": [
    "df.groupby(by=['Output', 'Educational_special_needs']).size() / df.groupby('Output').size() * df.Output.value_counts()"
   ]
  },
  {
   "cell_type": "code",
   "execution_count": 291,
   "metadata": {},
   "outputs": [
    {
     "data": {
      "text/plain": [
       "Output    Educational_special_needs\n",
       "Dropout   0                            98.803659\n",
       "          1                             1.196341\n",
       "Enrolled  0                            98.614610\n",
       "          1                             1.385390\n",
       "Graduate  0                            98.958805\n",
       "          1                             1.041195\n",
       "dtype: float64"
      ]
     },
     "execution_count": 291,
     "metadata": {},
     "output_type": "execute_result"
    }
   ],
   "source": [
    "# in percent (%)\n",
    "df.groupby(by=['Output', 'Educational_special_needs']).size() / df.groupby('Output').size() * 100"
   ]
  }
 ],
 "metadata": {
  "kernelspec": {
   "display_name": "latihan",
   "language": "python",
   "name": "python3"
  },
  "language_info": {
   "codemirror_mode": {
    "name": "ipython",
    "version": 3
   },
   "file_extension": ".py",
   "mimetype": "text/x-python",
   "name": "python",
   "nbconvert_exporter": "python",
   "pygments_lexer": "ipython3",
   "version": "3.10.13"
  }
 },
 "nbformat": 4,
 "nbformat_minor": 2
}
